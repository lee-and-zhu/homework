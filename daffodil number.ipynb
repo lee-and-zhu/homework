{
 "cells": [
  {
   "cell_type": "markdown",
   "source": [
    "1,判定这是三位数"
   ],
   "metadata": {
    "collapsed": false
   },
   "id": "bf3e4c78a58b2d9f"
  },
  {
   "cell_type": "code",
   "outputs": [],
   "source": [
    "num=input(\"Enter a 3th number\")\n",
    "num=int(num)\n",
    "if not (100<=num<=999):\n",
    "    print(\"Invalid number\")\n",
    "    exit()\n"
   ],
   "metadata": {
    "collapsed": false,
    "ExecuteTime": {
     "end_time": "2024-03-22T07:33:08.357363Z",
     "start_time": "2024-03-22T07:33:06.936754Z"
    }
   },
   "id": "a16d52ede93d8474",
   "execution_count": 4
  },
  {
   "cell_type": "markdown",
   "source": [
    "判断是不是水仙花数"
   ],
   "metadata": {
    "collapsed": false
   },
   "id": "de32f5ec688f18c"
  },
  {
   "cell_type": "code",
   "outputs": [
    {
     "name": "stdout",
     "output_type": "stream",
     "text": [
      "123It is not a perfect number\n"
     ]
    }
   ],
   "source": [
    "a=num//100\n",
    "b=num%100//10\n",
    "c=num%10\n",
    "num1=a ** 3+b ** 3+c ** 3==num\n",
    "if num1:\n",
    "    print(\"%dIt is a perfect number\"%num)\n",
    "else:\n",
    "    print(\"%dIt is not a perfect number\"%num)"
   ],
   "metadata": {
    "collapsed": false,
    "ExecuteTime": {
     "end_time": "2024-03-22T07:33:08.369965Z",
     "start_time": "2024-03-22T07:33:08.361520Z"
    }
   },
   "id": "76f2de440e83e552",
   "execution_count": 5
  }
 ],
 "metadata": {
  "kernelspec": {
   "display_name": "Python 3",
   "language": "python",
   "name": "python3"
  },
  "language_info": {
   "codemirror_mode": {
    "name": "ipython",
    "version": 2
   },
   "file_extension": ".py",
   "mimetype": "text/x-python",
   "name": "python",
   "nbconvert_exporter": "python",
   "pygments_lexer": "ipython2",
   "version": "2.7.6"
  }
 },
 "nbformat": 4,
 "nbformat_minor": 5
}
