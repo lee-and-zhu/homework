{
 "cells": [
  {
   "cell_type": "code",
   "outputs": [],
   "source": [
    "#输入数据\n",
    "hight1=(input(\"请输入你的身高（m）：\"))\n",
    "weight1=(input(\"请输入你的体重（kg）：\"))\n",
    "sex1=input(\"请输入你的性别(男=1，女=0)：\")\n",
    "age1=input(\"请输入你的年龄：\")\n",
    "hight=float(hight1)\n",
    "weight=float(weight1)\n",
    "sex=float(sex1)\n",
    "age=float(age1)\n",
    "if not (0 < hight < 300 and 0 < weight < 500 and 0 < age < 200 and (sex == 1 or sex == 0)):\n",
    "    print(\"你的数据不符合标准，程序退出\")\n",
    "    exit()"
   ],
   "metadata": {
    "collapsed": false
   },
   "id": "7528717408ea00e6"
  },
  {
   "cell_type": "code",
   "outputs": [],
   "source": [
    "bmi=weight/(hight*hight)\n",
    "tizhilv=bmi*1.2+0.23*age-5.4-10.8*sex\n",
    "tizhilv/=100\n",
    "if sex==1:\n",
    "    result=0.15<tizhilv<0.18\n",
    "    minimum=0.15\n",
    "    maximun=0.18\n",
    "elif sex==0:\n",
    "    result=0.25<tizhilv<0.28\n",
    "    minimum=0.25\n",
    "    maximun=0.28\n"
   ],
   "metadata": {
    "collapsed": false
   },
   "id": "58829c7130ceabf9"
  },
  {
   "cell_type": "code",
   "outputs": [],
   "source": [
    "if sex==1:\n",
    "    hao=\"先生您好：\"\n",
    "elif sex==0:\n",
    "    hao=\"女士您好：\"\n",
    "\n",
    "\n",
    "if result:\n",
    "    notice=\"身体不错\"\n",
    "else:\n",
    "    if tizhilv<minimum:\n",
    "        notice=\"你不健康呀,小瘦瘦\"\n",
    "    else:\n",
    "        notice=\"你不健康呀,小胖胖\"\n",
    "print(\"你的体脂率为：\",tizhilv)\n",
    "print(hao,notice)"
   ],
   "metadata": {
    "collapsed": false
   },
   "id": "17f0536089ff191"
  },
  {
   "cell_type": "markdown",
   "source": [
    "判断性别给出不同的结论"
   ],
   "metadata": {
    "collapsed": false
   },
   "id": "2037fc6fc3247683"
  }
 ],
 "metadata": {
  "kernelspec": {
   "display_name": "Python 3",
   "language": "python",
   "name": "python3"
  },
  "language_info": {
   "codemirror_mode": {
    "name": "ipython",
    "version": 2
   },
   "file_extension": ".py",
   "mimetype": "text/x-python",
   "name": "python",
   "nbconvert_exporter": "python",
   "pygments_lexer": "ipython2",
   "version": "2.7.6"
  }
 },
 "nbformat": 4,
 "nbformat_minor": 5
}
