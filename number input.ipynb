{
 "cells": [
  {
   "cell_type": "markdown",
   "source": [
    "数字加法"
   ],
   "metadata": {
    "collapsed": false
   },
   "id": "371aa06f4259ae29"
  },
  {
   "cell_type": "code",
   "outputs": [],
   "source": [
    "while True:\n",
    "    num1 = input(\"Enter a number: \")\n",
    "    num2 = input(\"Enter another number: \")\n",
    "    num1=float(num1)\n",
    "    num2=float(num2)\n",
    "    result = num1 + num2\n",
    "    if num1>100 or num2>100:\n",
    "        print(\"Sorry,numbers didn't match\")\n",
    "        continue\n",
    "    print(\"The result\",result)\n",
    "    a=input(\"Press any key to continue(y or n)\")\n",
    "    if a==\"y\" :\n",
    "        continue\n",
    "    elif a==\"n\" :\n",
    "        break"
   ],
   "metadata": {
    "collapsed": false
   },
   "id": "f5e984d4dd4d1cdc",
   "execution_count": 0
  },
  {
   "cell_type": "code",
   "outputs": [],
   "source": [
    "num=range(1,101)\n",
    "for i in num:\n",
    "    if num%3==0:\n",
    "        print(num)\n",
    "    else:\n",
    "        continue"
   ],
   "metadata": {
    "collapsed": false,
    "ExecuteTime": {
     "end_time": "2024-03-22T01:11:40.638047Z",
     "start_time": "2024-03-22T01:11:40.635186Z"
    }
   },
   "id": "9fcfd55c3545b115",
   "execution_count": 17
  },
  {
   "cell_type": "markdown",
   "source": [
    "九九乘法表，print换行以及输出在同一行"
   ],
   "metadata": {
    "collapsed": false
   },
   "id": "ba80f01c2af5cd97"
  },
  {
   "cell_type": "code",
   "outputs": [],
   "source": [
    "for num in range(1,10):\n",
    "    nums=range(1,num+1)\n",
    "    for i in nums:\n",
    "        print(\"%d * %d = %d\"%(num,i,num*i),end=\"\\t\")\n",
    "    print(\"\")"
   ],
   "metadata": {
    "collapsed": false
   },
   "id": "67030537cab43772",
   "execution_count": null
  },
  {
   "cell_type": "markdown",
   "source": [
    "pass语句用于使整个程序完整"
   ],
   "metadata": {
    "collapsed": false
   },
   "id": "cae2010635f292a6"
  },
  {
   "cell_type": "code",
   "outputs": [],
   "source": [
    "while True:\n",
    "    pass\n",
    "else:\n",
    "    pass"
   ],
   "metadata": {
    "collapsed": false,
    "is_executing": true,
    "ExecuteTime": {
     "start_time": "2024-03-22T06:55:40.014435Z"
    }
   },
   "id": "17a0c05c9b91a06e"
  }
 ],
 "metadata": {
  "kernelspec": {
   "display_name": "Python 3",
   "language": "python",
   "name": "python3"
  },
  "language_info": {
   "codemirror_mode": {
    "name": "ipython",
    "version": 2
   },
   "file_extension": ".py",
   "mimetype": "text/x-python",
   "name": "python",
   "nbconvert_exporter": "python",
   "pygments_lexer": "ipython2",
   "version": "2.7.6"
  }
 },
 "nbformat": 4,
 "nbformat_minor": 5
}
