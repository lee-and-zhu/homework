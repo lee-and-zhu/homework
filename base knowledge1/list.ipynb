{
 "cells": [
  {
   "cell_type": "markdown",
   "source": [
    "列表：有序的可变的元素组合"
   ],
   "metadata": {
    "collapsed": false
   },
   "id": "f47ab991db812853"
  },
  {
   "cell_type": "code",
   "outputs": [],
   "source": [
    "numbers = [1, 2, 3, 4, 5, True, 7, 8, 9,['cat', 'dog', 'rabbit']]\n",
    "print(numbers)"
   ],
   "metadata": {
    "collapsed": true
   },
   "id": "initial_id",
   "execution_count": null
  },
  {
   "cell_type": "markdown",
   "source": [
    "生成列表"
   ],
   "metadata": {
    "collapsed": false
   },
   "id": "2fb01572d26ee0e7"
  },
  {
   "cell_type": "code",
   "outputs": [],
   "source": [
    "#range(stop)       [0,1,2,...,stop-1]\n",
    "#range(start,stop[,step])       [start,start+step,...,<stop]\n",
    "numb=range(99)\n"
   ],
   "metadata": {
    "collapsed": false
   },
   "id": "5c018e6e94442742"
  },
  {
   "cell_type": "code",
   "outputs": [],
   "source": [
    "#列表推导\n",
    "numb1=[1,2,3,4,5]\n",
    "result=[num ** 2 for num in numb1]\n",
    "result2=[1 for num in numb1]\n",
    "result3=[num ** 2 for num in numb1 if num % 2 !=0]\n",
    "print(result)\n",
    "print(result2)\n",
    "print(result3)"
   ],
   "metadata": {
    "collapsed": false
   },
   "id": "274e9d79f7ddc29c",
   "execution_count": null
  },
  {
   "cell_type": "code",
   "outputs": [],
   "source": [
    "#列表的常用操作   加\n",
    "#append()        列表最后加东西\n",
    "#insert(index,object)     列表在指定index前面加object\n",
    "#extend(iterable)       往列表中拓展另外一个可迭代序列\n",
    "numbers = [1, 2, 3, 4, 5]\n",
    "numbers1=[\"apple\", \"banana\", \"cherry\"]\n",
    "print(numbers * 3)\n",
    "#执行extend()方法，没有返回值，默认都是返回None(所有没有返回值的函数，python默认都是返回None)，所以print()将None打印出来了\n",
    "print(numbers.extend(numbers1))\n",
    "print(numbers)"
   ],
   "metadata": {
    "collapsed": false
   },
   "id": "2c7eabf50fc94e11",
   "execution_count": null
  },
  {
   "cell_type": "code",
   "outputs": [],
   "source": [
    "#减\n",
    "numbers = [1, 2, 3, 4, 5]\n",
    "numbers1=[\"apple\", \"banana\"]\n",
    "del numbers1[0]\n",
    "print(numbers1)\n",
    "#pop(index=-1)       默认删除列表最后一个，从左往右删除\n",
    "#remove(object)      移除列表中指定元素"
   ],
   "metadata": {
    "collapsed": false
   },
   "id": "baa54dab934cd2d3",
   "execution_count": null
  },
  {
   "cell_type": "code",
   "outputs": [],
   "source": [
    "#改\n",
    "#names[index]=666\n",
    "num=[1,2,3,4,5]\n",
    "num[2]=666\n",
    "print(num)"
   ],
   "metadata": {
    "collapsed": false
   },
   "id": "fc735479840d472a",
   "execution_count": null
  },
  {
   "cell_type": "code",
   "outputs": [],
   "source": [
    "#查询\n",
    "#index()    获取单个元素\n",
    "num=['a','b','c','d','a','v']\n",
    "idx=num.index('a')\n",
    "print(idx)\n",
    "#count()    指定元素个数\n",
    "#    item[start:end:step]\n",
    "numb1=num[::]\n",
    "numb2=num[0:4:1]\n",
    "print(numb1)\n",
    "print(numb2)\n"
   ],
   "metadata": {
    "collapsed": false
   },
   "id": "c4e93975b333e78",
   "execution_count": null
  },
  {
   "cell_type": "code",
   "outputs": [],
   "source": [
    "#遍历\n",
    "num=['a','b','c','d','a','v']\n",
    "#1\n",
    "current=0\n",
    "for v in num:\n",
    "    print(v)\n",
    "    print(num.index(v,current))\n",
    "    current+=1\n",
    "#2\n",
    "index=range(len(num))\n",
    "for dex in index:\n",
    "    print(dex,num[dex])\n",
    "\n",
    "#3\n",
    "print(list(enumerate(num)))\n",
    "for i in enumerate(num):\n",
    "    print(i)\n",
    "    print(i[0],i[1])\n",
    "print('------------------------')\n",
    "for a,b in enumerate(num):\n",
    "    print(a)\n",
    "    print(b)\n",
    "\n",
    "#4使用迭代器进行遍历   for就是迭代器，不能多次迭代\n",
    "#4.1迭代器判断\n",
    "import collections\n",
    "collections.Iterable = collections.abc.Iterable  #python3.9后需要加这句话\n",
    "collections.Iterator= collections.abc.Iterator\n",
    "result=isinstance(num,collections.Iterable)       #判定是否可以迭代\n",
    "result1=isinstance(num,collections.Iterator)       #判定是否有迭代性\n",
    "print(result)\n",
    "print(result1)\n",
    "\n",
    "#next函数\n",
    "it=iter(num)\n",
    "print(next(it))\n",
    "print(next(it))\n",
    "print(next(it))\n",
    "print(next(it))\n",
    "\n",
    "#不能多次迭代，迭代完一次后会销毁，用来省内存\n",
    "for i in it:\n",
    "    print(i)\n",
    "print(\"-------------------\")\n",
    "for i in it:\n",
    "    print(i)"
   ],
   "metadata": {
    "collapsed": false
   },
   "id": "dc0940ccc577cb3c",
   "execution_count": null
  },
  {
   "cell_type": "code",
   "outputs": [],
   "source": [
    "#判定\n",
    "#元素 in 列表\n",
    "#元素 not in 列表\n",
    "#列表<列表，比较是按照每个元素来的\n",
    "num=[1,2,3,4,5,6,7,8,9]\n",
    "num1=[1,2,3,4,5,6,7,8,9]\n",
    "num<num1\n"
   ],
   "metadata": {
    "collapsed": false
   },
   "id": "6ccc1313d2a75165"
  },
  {
   "cell_type": "code",
   "outputs": [],
   "source": [
    "#排序\n",
    "#1\n",
    "s=\"acbegscv\"\n",
    "result=sorted(s,reverse=True)\n",
    "print(result)\n",
    "print(\"------------------\")\n",
    "b=[(\"sz\",18),(\"sz1\",17),(\"sz2\",16),(\"sz3\",15)]\n",
    "result1=sorted(b,key=lambda x:x[1],reverse=True)\n",
    "print(result1)\n",
    "#2   sort,直接改变列表这个变量\n",
    "c=[1,2,3,4,5,8,9,6,7,10,11,12,13,14,15,16,17,18]\n",
    "result2=c.sort(reverse=True)\n",
    "print(result2,c)\n"
   ],
   "metadata": {
    "collapsed": false
   },
   "id": "b249881eb7a8abc0",
   "execution_count": null
  },
  {
   "cell_type": "code",
   "outputs": [
    {
     "name": "stdout",
     "output_type": "stream",
     "text": [
      "[7, 4, 8, 6, 2, 1, 5, 9, 3]\n",
      "None [3, 9, 5, 1, 2, 6, 8, 4, 7]\n"
     ]
    }
   ],
   "source": [
    "#乱序，反转\n",
    "import random\n",
    "l=[1,2,3,4,5,6,7,8,9]\n",
    "random.shuffle(l)\n",
    "print(l)\n",
    "#反转直接改变列表，还可以进行切片反转\n",
    "k=l.reverse()\n",
    "print(k,l)"
   ],
   "metadata": {
    "collapsed": false,
    "ExecuteTime": {
     "end_time": "2024-03-26T06:52:37.232206Z",
     "start_time": "2024-03-26T06:52:37.222935Z"
    }
   },
   "id": "8b9013b5735e6259",
   "execution_count": 73
  }
 ],
 "metadata": {
  "kernelspec": {
   "display_name": "Python 3",
   "language": "python",
   "name": "python3"
  },
  "language_info": {
   "codemirror_mode": {
    "name": "ipython",
    "version": 2
   },
   "file_extension": ".py",
   "mimetype": "text/x-python",
   "name": "python",
   "nbconvert_exporter": "python",
   "pygments_lexer": "ipython2",
   "version": "2.7.6"
  }
 },
 "nbformat": 4,
 "nbformat_minor": 5
}
