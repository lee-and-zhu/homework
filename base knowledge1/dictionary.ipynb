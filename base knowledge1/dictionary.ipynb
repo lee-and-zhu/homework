{
 "cells": [
  {
   "cell_type": "markdown",
   "source": [
    "字典：无序的，可变的键值对集合"
   ],
   "metadata": {
    "collapsed": false
   },
   "id": "ee6df6ab53d25dfc"
  },
  {
   "cell_type": "code",
   "outputs": [
    {
     "name": "stdout",
     "output_type": "stream",
     "text": [
      "John\n",
      "{'name': 'John', 'age': '18'}\n",
      "{'a': 1, 'b': 1, 'c': 1}\n",
      "{1: 2, 2: 2, 3: 2}\n",
      "{'a': 333, 'b': 333, 'c': 333}\n"
     ]
    }
   ],
   "source": [
    "#dictionary={key:value,key:value}       key不能重复，如果重复则取后面的，key是不可变类型（id不变）\n",
    "#id可变：列表[]，字典{}，可变集合。-----------id不可变：数值，布尔，字符串，元组（）\n",
    "son={\"name\":\"John\",\"age\":\"18\"}\n",
    "print(son[\"name\"])\n",
    "print(son)\n",
    "#类的调用，dict指字典类型\n",
    "d=dict.fromkeys(\"abc\",1)\n",
    "e=dict.fromkeys([1,2,3],2)\n",
    "print(d)\n",
    "print(e)\n",
    "#对象调用，dic是实际的字典对象\n",
    "f=son.fromkeys(\"abc\",333)\n",
    "print(f)\n"
   ],
   "metadata": {
    "collapsed": true,
    "ExecuteTime": {
     "end_time": "2024-03-29T10:11:48.624373Z",
     "start_time": "2024-03-29T10:11:48.618232Z"
    }
   },
   "id": "initial_id",
   "execution_count": 12
  },
  {
   "cell_type": "code",
   "outputs": [
    {
     "name": "stdout",
     "output_type": "stream",
     "text": [
      "name\n",
      "sz\n",
      "age\n",
      "18\n",
      "address\n",
      "上海\n",
      "dict_items([('name', 'sz'), ('age', 18), ('address', '上海')])\n",
      "name sz\n",
      "age 18\n",
      "address 上海\n"
     ]
    }
   ],
   "source": [
    "#字典的常用操作\n",
    "son={\"name\":\"John\",\"age\":\"18\"}\n",
    "#加：dic[key]=value            当key不存在时，即为增加操作\n",
    "#-------------------------------------------------------------------------\n",
    "# del dic[key]\n",
    "# dic.pop(key[, default])\n",
    "# 删除指定的键值对, 并返回对应的值\n",
    "# 如果key, 不存在, 那么直接返回给定的default值;\n",
    "# 不作删除动作\n",
    "# 如果没有给定默认值, 则报错\n",
    "# dic.popitem()\n",
    "# 删除按升序排序后的第一个键值对, 并以元组的形式返回该键值对\n",
    "# 如果字典为空, 则报错\n",
    "# dic.clear()\n",
    "# 删除字典内所有键值对\n",
    "# 返回None\n",
    "# 注意, 字典对象本身还存在, 只不过内容被清空\n",
    "# 注意和del的区别,del直接搞没了\n",
    "#-------------------------------------------------------------------------\n",
    "#改\n",
    "# 只能改值, 不能改key\n",
    "# 修改单个键值对\n",
    "# dic[key] = value\n",
    "# 直接设置, 如果key不存在, 则新增, 存在则修改\n",
    "# \t批量修改键值对\n",
    "# \toldDic.update(newDic)\n",
    "# \t根据新的字典, 批量更新旧字典中的键值对\n",
    "# \t如果旧字典没有对应的key, 则新增键值对\n",
    "#-------------------------------------------------------------------------\n",
    "#查询，python3是用的 Dictionary view objects\n",
    "# 获取单个值\n",
    "# 方式1\n",
    "# dic[key]\n",
    "# 如果key, 不存在, 会报错\n",
    "# 方式2\n",
    "# dic.get(key[, default])\n",
    "# 如果不存在对应的key, 则取给定的默认值default\n",
    "# 如果没有默认值, 则为None\n",
    "# 但不会报错\n",
    "# 但是, 原字典不会新增这个键值对\n",
    "# 方式3\n",
    "# dic.setdefault(key[, default])\n",
    "# 获取指定key对应的值\n",
    "# 如果key不存在, 则设置给定默认值, 并返回该值\n",
    "# 如果默认值没给定\n",
    "# 则使用None代替\n",
    "# 获取所有的值\n",
    "# \tdic.values()\n",
    "# # 获取所有的键\n",
    "# # \tdic.keys()\n",
    "# # 获取字典的键值对\n",
    "# # \tdic.items()\n",
    "#---------------------------------------------------------------------\n",
    "#遍历\n",
    "## 先遍历所有的key< 然后, 根据指定的key, 获取到对应的值\n",
    "d = {\"name\": \"sz\", \"age\": 18, \"address\": \"上海\"}\n",
    "# 1. 先获取所有的key\n",
    "keys = d.keys()\n",
    "# # 2. 遍历所有de key\n",
    "for key in keys:\n",
    "    print(key)\n",
    "    print(d[key])\n",
    "# # 直接遍历所有的键值对\n",
    "# # 1. 获取, 所有的键值对\n",
    "kvs = d.items()\n",
    "print(kvs)\n",
    "# # 2. 直接遍历\n",
    "for k, v in kvs:\n",
    "    print(k, v)\n",
    "#--------------------------------------------------------------\n",
    "#计算，判定\n",
    "# \tlen(info)        键值对的个数\n",
    "# \tx in dic\n",
    "# \tx not in dic"
   ],
   "metadata": {
    "collapsed": false,
    "ExecuteTime": {
     "end_time": "2024-03-29T11:23:00.218979Z",
     "start_time": "2024-03-29T11:23:00.211133Z"
    }
   },
   "id": "e1c3e2bfb3287437",
   "execution_count": 15
  }
 ],
 "metadata": {
  "kernelspec": {
   "display_name": "Python 3",
   "language": "python",
   "name": "python3"
  },
  "language_info": {
   "codemirror_mode": {
    "name": "ipython",
    "version": 2
   },
   "file_extension": ".py",
   "mimetype": "text/x-python",
   "name": "python",
   "nbconvert_exporter": "python",
   "pygments_lexer": "ipython2",
   "version": "2.7.6"
  }
 },
 "nbformat": 4,
 "nbformat_minor": 5
}
