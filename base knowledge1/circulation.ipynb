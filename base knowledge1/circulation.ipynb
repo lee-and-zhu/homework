{
 "cells": [
  {
   "cell_type": "markdown",
   "source": [
    "while语句"
   ],
   "metadata": {
    "collapsed": false
   },
   "id": "6c2bb55d01c16f7d"
  },
  {
   "cell_type": "code",
   "outputs": [],
   "source": [
    "print('Hello World\\n'*10)\n",
    "i=0\n",
    "while i<10 :\n",
    "    print(\"hello,word\")\n",
    "    print(i)\n",
    "    i+=1"
   ],
   "metadata": {
    "collapsed": true
   },
   "id": "initial_id",
   "execution_count": 0
  },
  {
   "cell_type": "markdown",
   "source": [
    "#while语句"
   ],
   "metadata": {
    "collapsed": false
   },
   "id": "c90f5add74dd9105"
  },
  {
   "cell_type": "code",
   "outputs": [],
   "source": [
    "result=0\n",
    "while i<10 :\n",
    "    i += 1\n",
    "    result+=i\n",
    "print(result)"
   ],
   "metadata": {
    "collapsed": false
   },
   "id": "2280cd2231c27faf"
  },
  {
   "cell_type": "markdown",
   "source": [
    "while语句+else，break"
   ],
   "metadata": {
    "collapsed": false
   },
   "id": "e3b4c3bc312f0420"
  },
  {
   "cell_type": "code",
   "outputs": [],
   "source": [
    "while i<10:\n",
    "    i+=1\n",
    "    print(\"第\",i,\"次\")\n",
    "    break\n",
    "else:\n",
    "    print(\"该停了\")"
   ],
   "metadata": {
    "collapsed": false
   },
   "id": "468b79738f54b11e"
  },
  {
   "cell_type": "markdown",
   "source": [
    "for循环一般用于遍历一个集合的元素"
   ],
   "metadata": {
    "collapsed": false
   },
   "id": "ffb4e099afed803d"
  },
  {
   "cell_type": "code",
   "outputs": [],
   "source": [
    "tice=(\"我真不想学，这个代码了\")\n",
    "for i in range(0,len(tice)):\n",
    "    print(tice[i])\n",
    "else:\n",
    "    print(\"end\")"
   ],
   "metadata": {
    "collapsed": false
   },
   "id": "9626ab5bb8f0efad"
  },
  {
   "cell_type": "code",
   "outputs": [],
   "source": [
    "tices=[\"小黄\",\"小蓝\",\"小绿\",\"小紫\"]\n",
    "for i in tices:\n",
    "    print(i)"
   ],
   "metadata": {
    "collapsed": false
   },
   "id": "4c025650be378108"
  },
  {
   "cell_type": "markdown",
   "source": [
    "反转打印，用加号来完成字符串的凭借"
   ],
   "metadata": {
    "collapsed": false
   },
   "id": "854626c54f7ef2f1"
  },
  {
   "cell_type": "code",
   "outputs": [],
   "source": [
    "result=\"\"\n",
    "tice=(\"我真不想学，这个代码了\")\n",
    "for i in tice:\n",
    "    result=i+result\n",
    "print(result)"
   ],
   "metadata": {
    "collapsed": false
   },
   "id": "a8eb230d60a20473"
  },
  {
   "cell_type": "markdown",
   "source": [
    "打印1-100中的偶数\n"
   ],
   "metadata": {
    "collapsed": false
   },
   "id": "892c9ffd52f2e326"
  },
  {
   "cell_type": "code",
   "outputs": [],
   "source": [
    "for num in range(1,101):\n",
    "    if num%2==0:\n",
    "        print(num)"
   ],
   "metadata": {
    "collapsed": false
   },
   "id": "78b5f6c03f606d50"
  },
  {
   "cell_type": "markdown",
   "source": [
    "continue,继续循环，但是不打印"
   ],
   "metadata": {
    "collapsed": false
   },
   "id": "47edad93c49af68f"
  },
  {
   "cell_type": "code",
   "outputs": [],
   "source": [
    "for num in range(1,101):\n",
    "    if num%2==0:\n",
    "        if num%3==0:\n",
    "            continue\n",
    "        print(num)"
   ],
   "metadata": {
    "collapsed": false
   },
   "id": "945ad59861345499"
  }
 ],
 "metadata": {
  "kernelspec": {
   "display_name": "Python 3",
   "language": "python",
   "name": "python3"
  },
  "language_info": {
   "codemirror_mode": {
    "name": "ipython",
    "version": 2
   },
   "file_extension": ".py",
   "mimetype": "text/x-python",
   "name": "python",
   "nbconvert_exporter": "python",
   "pygments_lexer": "ipython2",
   "version": "2.7.6"
  }
 },
 "nbformat": 4,
 "nbformat_minor": 5
}
