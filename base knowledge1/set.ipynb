{
 "cells": [
  {
   "cell_type": "markdown",
   "source": [
    "集合：无序的，不可随机访问，不重复的元素集合"
   ],
   "metadata": {
    "collapsed": false
   },
   "id": "3a579b60fe7d8618"
  },
  {
   "cell_type": "code",
   "outputs": [],
   "source": [
    "str1=\"abc\"\n",
    "list=[1,2,3]\n",
    "tuple=(1,2,3)\n",
    "dict={1:'a',2:'b',3:'c'}\n",
    "set={1,2,3}"
   ],
   "metadata": {
    "collapsed": true,
    "ExecuteTime": {
     "end_time": "2024-03-30T01:09:44.160963Z",
     "start_time": "2024-03-30T01:09:44.155459Z"
    }
   },
   "id": "initial_id",
   "execution_count": 1
  },
  {
   "cell_type": "code",
   "outputs": [
    {
     "name": "stdout",
     "output_type": "stream",
     "text": [
      "<class 'set'> {1, 2, 3}\n",
      "<class 'set'> {'b', 'a', 'c'}\n",
      "<class 'set'> {0, 1, 2, 3, 4, 5, 6, 7, 8, 9}\n",
      "-------------------------------------------\n",
      "<class 'frozenset'> frozenset({1, 2, 3, 4, 5})\n",
      "<class 'frozenset'> frozenset({0, 1, 2, 3, 4, 5, 6, 7, 8, 9})\n"
     ]
    }
   ],
   "source": [
    "#集合定义\n",
    "#可变集合\n",
    "b={1,2,3}\n",
    "print(type(b),b)\n",
    "b1=set(\"abc\")\n",
    "print(type(b1),b1)\n",
    "b2=set(x for x in range(0,10))\n",
    "print(type(b2),b2)\n",
    "print(\"-------------------------------------------\")\n",
    "#不可变集合\n",
    "fs=frozenset([1,2,3,4,5])\n",
    "print(type(fs),fs)\n",
    "fs1=frozenset(x for x in range(0,10))\n",
    "print(type(fs1),fs1)"
   ],
   "metadata": {
    "collapsed": false,
    "ExecuteTime": {
     "end_time": "2024-03-30T01:38:12.231898Z",
     "start_time": "2024-03-30T01:38:12.225926Z"
    }
   },
   "id": "aefef2d3446b0e58",
   "execution_count": 16
  },
  {
   "cell_type": "code",
   "outputs": [
    {
     "name": "stdout",
     "output_type": "stream",
     "text": [
      "{1, 2, 3}\n",
      "[1, 2, 3] <class 'list'>\n"
     ]
    }
   ],
   "source": [
    "l1 = [1, 2, 3, 3, 3]\n",
    "s = set(l1)\n",
    "print(s)\n",
    "result=list(s)\n",
    "print(result, type(result))"
   ],
   "metadata": {
    "collapsed": false,
    "ExecuteTime": {
     "end_time": "2024-03-30T01:38:30.433420Z",
     "start_time": "2024-03-30T01:38:30.423867Z"
    }
   },
   "id": "4bca7889b6e45b64",
   "execution_count": 20
  },
  {
   "cell_type": "code",
   "outputs": [
    {
     "name": "stdout",
     "output_type": "stream",
     "text": [
      "1\n",
      "2\n",
      "3\n",
      "-------\n"
     ]
    }
   ],
   "source": [
    "#增删改查\n",
    "s={1,2,43,5,3}\n",
    "s.add(4)\n",
    "#删\n",
    "s.remove(43)\n",
    "s.discard(43)\n",
    "s.pop()\n",
    "s.clear()\n",
    "print(s)\n",
    "#不能修改\n",
    "#查\n",
    "c = {1, 2, 3}\n",
    "# 1. 生成一个迭代器\n",
    "its = iter(c)\n",
    "\n",
    "# 2. 使用这个迭代器去访问(next(), for in)\n",
    "print(next(its))\n",
    "print(next(its))\n",
    "print(next(its))\n",
    "\n",
    "print(\"-------\")\n",
    "\n",
    "for v in its:\n",
    "    print(v)\n"
   ],
   "metadata": {
    "collapsed": false,
    "ExecuteTime": {
     "end_time": "2024-03-30T01:56:12.310443Z",
     "start_time": "2024-03-30T01:56:12.303728Z"
    }
   },
   "id": "3c4b3053a2679dd0",
   "execution_count": 34
  },
  {
   "cell_type": "code",
   "outputs": [
    {
     "name": "stdout",
     "output_type": "stream",
     "text": [
      "None <class 'NoneType'>\n",
      "{4, 5} <class 'set'>\n",
      "frozenset({1, 2, 3, 4, 5}) {4, 5}\n"
     ]
    }
   ],
   "source": [
    "#集合之间的操作\n",
    "#交集\n",
    "\t# intersection(Iterable)\n",
    "# s1 = {\"1\", \"2\", \"3\", \"4\", \"5\"}\n",
    "s1 = frozenset([1, 2, 3, 4, 5])\n",
    "s2 = {4, 5, 6}\n",
    "# \tintersection_update(…)\n",
    "# \t\t交集计算完毕后, 会再次赋值给原对象\n",
    "# \t\t\t会更改原对象\n",
    "# \t\t\t所以, 只适用于可变集合\n",
    "result = s2.intersection_update(s1)\n",
    "result2 = s2 & s1            #type以左边的s2为主\n",
    "print(result, type(result))\n",
    "print(result2,type(result2))\n",
    "print(s1,s2)\n",
    "#集合与其他类型交集\n",
    "s3 = {\"1\", \"2\", \"3\", \"4\", \"5\"}\n",
    "print(s3.intersection(\"123\"))\n",
    "print(s3.intersection({\"1\": \"abc\", \"2\": \"12\", \"6\": 18}))\n",
    "print(s3.intersection([\"1\", \"2\", [\"1\", \"2\"]]))"
   ],
   "metadata": {
    "collapsed": false,
    "ExecuteTime": {
     "end_time": "2024-03-30T02:10:56.410375Z",
     "start_time": "2024-03-30T02:10:56.404871Z"
    }
   },
   "id": "da1ff0f6056dedd3",
   "execution_count": 44
  },
  {
   "cell_type": "code",
   "outputs": [
    {
     "name": "stdout",
     "output_type": "stream",
     "text": [
      "{1, 2, 3, 4, 5} <class 'set'>\n",
      "frozenset({1, 2, 3, 4, 5}) <class 'frozenset'>\n"
     ]
    }
   ],
   "source": [
    "#并集\n",
    "# \tunion()返回并集\n",
    "# \t逻辑或 '|'返回并集\n",
    "# \tupdate()更新并集\n",
    "s={1,2,3}\n",
    "s1=frozenset([1,2,3])\n",
    "s2={3,4,5}\n",
    "result=s.union(s2)\n",
    "result1=s1 | s2\n",
    "print(result,type(result))\n",
    "print(result1,type(result1))"
   ],
   "metadata": {
    "collapsed": false,
    "ExecuteTime": {
     "end_time": "2024-03-30T02:28:32.311387Z",
     "start_time": "2024-03-30T02:28:32.305898Z"
    }
   },
   "id": "ce2b18d7b076167a",
   "execution_count": 47
  },
  {
   "cell_type": "code",
   "outputs": [
    {
     "name": "stdout",
     "output_type": "stream",
     "text": [
      "frozenset({1, 2}) <class 'frozenset'>\n",
      "frozenset({1, 2}) <class 'frozenset'>\n"
     ]
    }
   ],
   "source": [
    "#差集\n",
    "s={1,2,3}\n",
    "s1=frozenset([1,2,3])\n",
    "s2={3,4,5}\n",
    "result=s1.difference(s2)\n",
    "result1=s1 - s2\n",
    "print(result,type(result))\n",
    "print(result1,type(result1))\n"
   ],
   "metadata": {
    "collapsed": false,
    "ExecuteTime": {
     "end_time": "2024-03-30T02:33:33.552373Z",
     "start_time": "2024-03-30T02:33:33.546789Z"
    }
   },
   "id": "cf8926eac6114983",
   "execution_count": 49
  },
  {
   "cell_type": "code",
   "outputs": [
    {
     "name": "stdout",
     "output_type": "stream",
     "text": [
      "False\n",
      "True\n",
      "True\n"
     ]
    }
   ],
   "source": [
    "#判定\n",
    "# \tisdisjoint()两个集合不相交\n",
    "# \tissuperset()一个集合包含另一个集合\n",
    "# \tissubset()一个集合包含于另一个集合\n",
    "s1={1,2,3,4,5}\n",
    "s2={3,4,5}\n",
    "print(s1.isdisjoint(s2))\n",
    "print(s1.issuperset(s2))\n",
    "print(s2.issubset(s1))"
   ],
   "metadata": {
    "collapsed": false,
    "ExecuteTime": {
     "end_time": "2024-03-30T02:37:18.746056Z",
     "start_time": "2024-03-30T02:37:18.741123Z"
    }
   },
   "id": "e13be20d9afe6e7",
   "execution_count": 52
  }
 ],
 "metadata": {
  "kernelspec": {
   "display_name": "Python 3",
   "language": "python",
   "name": "python3"
  },
  "language_info": {
   "codemirror_mode": {
    "name": "ipython",
    "version": 2
   },
   "file_extension": ".py",
   "mimetype": "text/x-python",
   "name": "python",
   "nbconvert_exporter": "python",
   "pygments_lexer": "ipython2",
   "version": "2.7.6"
  }
 },
 "nbformat": 4,
 "nbformat_minor": 5
}
