{
 "cells": [
  {
   "cell_type": "markdown",
   "source": [
    "数值：整数（int），浮点数（float），复数（complex）\n",
    "    整数：二进制数（0b）\n",
    "         八进制数（0/0o）\n",
    "         十进制数\n",
    "         十六进制（0x），0-9，a-f\n",
    "    321=3*10^2+2*10^1+1*10^1\n",
    "    浮点数：1.682e2=1.682*10^2\n",
    "    复数：a+bj ，complex（a，b）"
   ],
   "metadata": {
    "collapsed": false
   },
   "id": "2fb2d3dcf68b97ff"
  },
  {
   "cell_type": "code",
   "outputs": [
    {
     "name": "stdout",
     "output_type": "stream",
     "text": [
      "28\n"
     ]
    }
   ],
   "source": [
    "num = 0o34\n",
    "print(num)"
   ],
   "metadata": {
    "collapsed": true,
    "ExecuteTime": {
     "end_time": "2024-03-23T01:14:30.600764Z",
     "start_time": "2024-03-23T01:14:30.593527Z"
    }
   },
   "id": "initial_id",
   "execution_count": 1
  },
  {
   "cell_type": "markdown",
   "source": [
    "python本身自带的模块"
   ],
   "metadata": {
    "collapsed": false
   },
   "id": "5be7ddad1d1f4a69"
  },
  {
   "cell_type": "code",
   "outputs": [],
   "source": [
    "a=1\n",
    "abs(a)\n",
    "max(a)\n",
    "min(a)\n",
    "#round(a) 四舍五入\n",
    "#pow(a,4)  乘方"
   ],
   "metadata": {
    "collapsed": false
   },
   "id": "5c7187ef5def468e"
  },
  {
   "cell_type": "markdown",
   "source": [
    "math模块"
   ],
   "metadata": {
    "collapsed": false
   },
   "id": "157051440a75b5b0"
  },
  {
   "cell_type": "code",
   "outputs": [],
   "source": [
    "import math\n",
    "p1=3.1\n",
    "math.ceil(p1)\n",
    "math.floor(p1)\n",
    "math.sqrt(p1)\n",
    "math.log(p1,3)\n",
    "#三角函数，输入的是弧度，hudu=jiaodu/180*pi\n",
    "math.sin()\n",
    "math.cos()\n",
    "math.tan()\n",
    "math.asin()\n",
    "math.acos()\n",
    "math.atan()\n",
    "#弧度-角度\n",
    "math.degrees(math.asin())\n",
    "#角度-弧度\n",
    "math.radians(180)"
   ],
   "metadata": {
    "collapsed": false
   },
   "id": "788265e76af973d5"
  },
  {
   "cell_type": "markdown",
   "source": [
    "random模块"
   ],
   "metadata": {
    "collapsed": false
   },
   "id": "2c5a5bd90e10a244"
  },
  {
   "cell_type": "code",
   "outputs": [],
   "source": [
    "import random\n",
    "random.random()\n",
    "a=[1,3,4,5,7]\n",
    "#在一个序列中随机挑选\n",
    "random.choice(a)\n",
    "#范围类的随机小数[x,y]\n",
    "random.uniform(1,7)\n",
    "#范围类的随机整数[x,y]\n",
    "random.randint(1,7)\n",
    "#范围类的随机整数[x,y)，step=x\n",
    "random.randrange(1,4,2)"
   ],
   "metadata": {
    "collapsed": false
   },
   "id": "4634f522b8e08658"
  },
  {
   "cell_type": "markdown",
   "source": [
    "bool类型：ture false，是int的子类"
   ],
   "metadata": {
    "collapsed": false
   },
   "id": "afdb2f76f40a8c72"
  },
  {
   "cell_type": "code",
   "outputs": [],
   "source": [
    "print(True+2)\n",
    "result=issubclass(bool,int)\n",
    "print(result)"
   ],
   "metadata": {
    "collapsed": false
   },
   "id": "a5b78321e864e431",
   "execution_count": null
  },
  {
   "cell_type": "markdown",
   "source": [
    "字符串：非原始字符串，原始字符串,转义符：\n",
    "\\续行符\n",
    "\\'单引号\n",
    "\\\"双引号\n",
    "\\n换行\n",
    "\\t横向制表符\n",
    "原始字符串，前面加r\n",
    "三引号可以直接跨行书写"
   ],
   "metadata": {
    "collapsed": false
   },
   "id": "2cd2aa773621c4e7"
  },
  {
   "cell_type": "code",
   "outputs": [],
   "source": [
    "print('abd',\"abc\",'''abc''',\"\"\"abc\"\"\")\n",
    "code=\"wod \\'sc\\'\"\n",
    "name=\"s\"\\\n",
    "\"z\"\n",
    "lee=r\"im \\n sz\"\n",
    "name1=\"s\\\n",
    "z\"\n",
    "name2=(\"s\"\n",
    "       \"c\")\n",
    "name3=\"\"\"bbq\n",
    "aka\n",
    "sss\n",
    "\"\"\"\n",
    "print(code)\n",
    "print(name)\n",
    "print(lee)\n",
    "print(name1)\n",
    "print(name2)\n",
    "print(name3)"
   ],
   "metadata": {
    "collapsed": false
   },
   "id": "8d3f1e530e2e5a42",
   "execution_count": null
  },
  {
   "cell_type": "markdown",
   "source": [
    "字符串的一般操作"
   ],
   "metadata": {
    "collapsed": false
   },
   "id": "7a7d4d054d74fdac"
  },
  {
   "cell_type": "code",
   "outputs": [],
   "source": [
    "name=\"bbq\"+\"qqb\"\n",
    "print(name)\n",
    "name2=\"bbq\"\"qqb\"\n",
    "print(name2)\n",
    "name3=\"bbq%s,%d\"%(\"223\",123)\n",
    "print(name3)\n",
    "print(\"bbq\\t\"*10)"
   ],
   "metadata": {
    "collapsed": false
   },
   "id": "1380ce759b8c15a5",
   "execution_count": null
  },
  {
   "cell_type": "markdown",
   "source": [
    "字符串切片,第一个是0."
   ],
   "metadata": {
    "collapsed": false
   },
   "id": "54797d14b4568366"
  },
  {
   "cell_type": "code",
   "outputs": [],
   "source": [
    "name=\"abcdefg\"\n",
    "print(name)\n",
    "print(name[0],name[1],name[2],name[3])\n",
    "#步长1，从0到name的长度,步长可为负，就是从右往左\n",
    "print(name[0:len(name):1])\n"
   ],
   "metadata": {
    "collapsed": false
   },
   "id": "c56165f10b89b0cc",
   "execution_count": null
  },
  {
   "cell_type": "markdown",
   "source": [
    "字符串函数，（对象，参数）"
   ],
   "metadata": {
    "collapsed": false
   },
   "id": "7b201383529f3713"
  },
  {
   "cell_type": "code",
   "outputs": [],
   "source": [
    "#find函数find(参数，起始，终止)，rfind：从右开始找，没找到输出-1\n",
    "name=\"abcdefghijk\"\n",
    "name.find(\"c\",1,8)"
   ],
   "metadata": {
    "collapsed": false
   },
   "id": "136647d98182aa87",
   "execution_count": null
  },
  {
   "cell_type": "code",
   "outputs": [],
   "source": [
    "#index(sub,start=0,end=len(str)),找到了立刻停止\n",
    "name=\"abcdefghijk\"\n",
    "name.index(\"de\",1,8)"
   ],
   "metadata": {
    "collapsed": false
   },
   "id": "e523d6ecb60fa6a8",
   "execution_count": null
  },
  {
   "cell_type": "code",
   "outputs": [],
   "source": [
    "#字符串转换\n",
    "#replace(old,new[,count])    count指替换的次数\n",
    "name=\"abcdefghijk\"\n",
    "print(name.replace(\"c\",\"z\",1))"
   ],
   "metadata": {
    "collapsed": false
   },
   "id": "d0366355018fde78",
   "execution_count": null
  },
  {
   "cell_type": "code",
   "outputs": [],
   "source": [
    "#capitalize()     把字符串首字母变成大写\n",
    "#title()          把字符串每个单词的首字母变成大写\n",
    "name=\"ab%c*de  fg^h-ijk\"\n",
    "print(name.title())\n",
    "#lower()          把字符串每个字符都变成小写\n",
    "#upper()          把字符串每个字符都变成大写"
   ],
   "metadata": {
    "collapsed": false
   },
   "id": "e195ff88b0dd60ac",
   "execution_count": null
  },
  {
   "cell_type": "code",
   "outputs": [],
   "source": [
    "#--------------------------------------------------\n",
    "#字符串填充\n",
    "#ljust(width,fillchar)    原字符串<width会填充fillchar  右边填充\n",
    "#rjust   左边填充\n",
    "#center     放中间\n",
    "name=\"abcdefghijk\"\n",
    "print(name.center(18,'x'))"
   ],
   "metadata": {
    "collapsed": false
   },
   "id": "284dd9d4c1e59c5d",
   "execution_count": null
  },
  {
   "cell_type": "code",
   "outputs": [],
   "source": [
    "#lstrip(chars)   移除chars,从左边开始移除直到没有\n",
    "#rstrip(chars)   移除chars,从右边开始移除直到没有\n",
    "#strip(chars)    移除chars\n",
    "name=\"abcdefghijk\"\n",
    "print(name.lstrip(''))"
   ],
   "metadata": {
    "collapsed": false
   },
   "id": "76647c8630cfa311",
   "execution_count": null
  },
  {
   "cell_type": "code",
   "outputs": [],
   "source": [
    "#----------------------------\n",
    "#字符串分割\n",
    "#split(sep,maxsplit)   按照sep进行分割，分割maxsplit，输出是个列表\n",
    "#partition(sep)         返回分割符左右和分隔符\n",
    "#rpartition(sep)         从右边开始\n",
    "#splitlines(keepends)    按照换行符来切割，输出列表\n",
    "#join(iterable)              给定字符串，将可迭代对象进行拼接\n",
    "name=\"abcd-efgh-ijk\"\n",
    "print(name.partition(\"-\"))\n",
    "name1=[\"aa\",\"bb\",\"cc\",\"dd\",\"ee\"]\n",
    "print(\"xxx\".join(name1))\n"
   ],
   "metadata": {
    "collapsed": false
   },
   "id": "9d62588aee501cfe",
   "execution_count": null
  },
  {
   "cell_type": "code",
   "outputs": [],
   "source": [
    "#------------------------------------\n",
    "#字符串判定\n",
    "#isalpha       判定字符串是不是都是字母\n",
    "#isdigit       判定字符串是不是都是数字\n",
    "#isalnum       判定字符串是不是都是数字和字母\n",
    "#isspace       判定字符串是不是都是空白符\n",
    "#startswith(prifix,start=0,end=len(str))     判定字符串是不是一某个prifix前缀开头\n",
    "#endswith(prifix,start=0,end=len(str))       判定字符串是不是一某个prifix前缀开头\n",
    "print(\"abc\" in \"abcdef\")\n",
    "print(\"abcdef\" not in \"abc\")"
   ],
   "metadata": {
    "collapsed": false
   },
   "id": "3cf71218df3ac54b",
   "execution_count": null
  }
 ],
 "metadata": {
  "kernelspec": {
   "display_name": "Python 3",
   "language": "python",
   "name": "python3"
  },
  "language_info": {
   "codemirror_mode": {
    "name": "ipython",
    "version": 2
   },
   "file_extension": ".py",
   "mimetype": "text/x-python",
   "name": "python",
   "nbconvert_exporter": "python",
   "pygments_lexer": "ipython2",
   "version": "2.7.6"
  }
 },
 "nbformat": 4,
 "nbformat_minor": 5
}
