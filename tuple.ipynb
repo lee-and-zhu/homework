{
 "cells": [
  {
   "cell_type": "markdown",
   "source": [
    "元组：有序的不可变的元素组合\n",
    "不能修改元素"
   ],
   "metadata": {
    "collapsed": false
   },
   "id": "cef76ccf07b20024"
  },
  {
   "cell_type": "code",
   "outputs": [
    {
     "name": "stdout",
     "output_type": "stream",
     "text": [
      "<class 'int'>\n",
      "<class 'tuple'>\n",
      "<class 'tuple'>\n",
      "<class 'tuple'>\n"
     ]
    }
   ],
   "source": [
    "#元组的写法（1，）\n",
    "t=(1)\n",
    "print(type(t))\n",
    "t1=(1,)\n",
    "print(type(t1))\n",
    "#元组的写法2\n",
    "t2=1,2,3,\"ss\"\n",
    "print(type(t2))\n",
    "#\n",
    "t3=(1,2,\"32\",(1,3,4,(1,4)))\n",
    "print(type(t3))"
   ],
   "metadata": {
    "collapsed": true,
    "ExecuteTime": {
     "end_time": "2024-03-29T02:19:16.074792Z",
     "start_time": "2024-03-29T02:19:16.069302Z"
    }
   },
   "id": "initial_id",
   "execution_count": 4
  },
  {
   "cell_type": "code",
   "outputs": [
    {
     "name": "stdout",
     "output_type": "stream",
     "text": [
      "32\n"
     ]
    }
   ],
   "source": [
    "#元组没有增删改的操作，只能查询等等\n",
    "t4=(1,2,\"32\",(1,3,4,(1,2)))\n",
    "print(t4[2])"
   ],
   "metadata": {
    "collapsed": false,
    "ExecuteTime": {
     "end_time": "2024-03-29T02:23:50.111962Z",
     "start_time": "2024-03-29T02:23:50.108657Z"
    }
   },
   "id": "8c8412f3fd66bcd9",
   "execution_count": 8
  },
  {
   "cell_type": "code",
   "outputs": [],
   "source": [
    "#额外操作\n",
    "# \ttuple.count(item)\n",
    "# \t\t统计元组中指定元素的个数\n",
    "# \ttuple.index(item)\n",
    "# \t\t获取元组中指定元素的索引\n",
    "# \tlen(tup)\n",
    "# \t\t返回元组中元素的个数\n",
    "# \tmax(tup)\n",
    "# \t\t返回元组中元素最大的值\n",
    "# \tmin(tup)\n",
    "# \t\t返回元组中元素最小的值\n",
    "# 判定\n",
    "# \t元素 in  元组\n",
    "# \t元素 not in 元组"
   ],
   "metadata": {
    "collapsed": false
   },
   "id": "5023f1a8d3ba8bbc"
  },
  {
   "cell_type": "code",
   "outputs": [],
   "source": [
    "# 比较\n",
    "# \tcmp()\n",
    "# \t\t内建函数\n",
    "# \t\t如果比较的是元组, 则针对每个元素, 从左到右逐一比较\n",
    "# \t\t\t左 > 右\n",
    "# \t\t\t\t1\n",
    "# \t\t\t左 == 右\n",
    "# \t\t\t\t0\n",
    "# \t\t\t左 < 右\n",
    "# \t\t\t\t-1\n",
    "# \t\tPython3.x不支持\n",
    "# tuple list\n",
    "# result = cmp((0, 2), [1, 2])\n",
    "# print result\n",
    "\n",
    "\n",
    "# \t比较运算符\n",
    "# \t\t==\n",
    "# \t\t>\n",
    "# \t\t<"
   ],
   "metadata": {
    "collapsed": false
   },
   "id": "648333283d8d5ff5"
  },
  {
   "cell_type": "code",
   "outputs": [],
   "source": [
    "# 拼接\n",
    "# \t乘法\n",
    "# \t\t(元素1, 元素2...) * int类型数值\n",
    "\n",
    "# \t加法\n",
    "# \t\t(元素1, 元素2) + (元素a, 元素b)\n",
    "print((1, 2) * 3)\n",
    "print((1, 2) + (3, 4))\n"
   ],
   "metadata": {
    "collapsed": false
   },
   "id": "c2a7b71a5ae7a675",
   "execution_count": null
  },
  {
   "cell_type": "code",
   "outputs": [],
   "source": [
    "#拆包\n",
    "a = 1\n",
    "b = 2\n",
    "\n",
    "b, a = (a, b)\n",
    "\n",
    "print(a, b)"
   ],
   "metadata": {
    "collapsed": false
   },
   "id": "2bf8c0d0a14f0acc"
  }
 ],
 "metadata": {
  "kernelspec": {
   "display_name": "Python 3",
   "language": "python",
   "name": "python3"
  },
  "language_info": {
   "codemirror_mode": {
    "name": "ipython",
    "version": 2
   },
   "file_extension": ".py",
   "mimetype": "text/x-python",
   "name": "python",
   "nbconvert_exporter": "python",
   "pygments_lexer": "ipython2",
   "version": "2.7.6"
  }
 },
 "nbformat": 4,
 "nbformat_minor": 5
}
