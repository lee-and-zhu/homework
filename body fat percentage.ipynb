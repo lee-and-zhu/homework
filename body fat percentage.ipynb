{
 "cells": [
  {
   "cell_type": "code",
   "execution_count": null,
   "id": "initial_id",
   "metadata": {
    "collapsed": true
   },
   "outputs": [],
   "source": [
    "hight1=(input(\"请输入你的身高（m）：\"))\n",
    "weight1=(input(\"请输入你的体重（kg）：\"))\n",
    "sex1=input(\"请输入你的性别(男=1，女=0)：\")\n",
    "age1=input(\"请输入你的年龄：\")\n",
    "hight=float(hight1)\n",
    "weight=float(weight1)\n",
    "sex=float(sex1)\n",
    "age=float(age1)\n",
    "bmi=weight/(hight*hight)\n",
    "tizhilv=bmi*1.2+0.23*age-5.4-10.8*sex\n",
    "minimun=0.15+0.10*(1-sex)\n",
    "maximun=0.18+0.10*(1-sex)\n",
    "result=minimun<tizhilv<maximun\n",
    "print(\"你的体脂率是否符合标准：\",result)\n",
    "print(\"你的体脂率为：\",tizhilv)\n"
   ]
  },
  {
   "cell_type": "markdown",
   "source": [
    "print函数以及需要改变数据的类型来进行计算"
   ],
   "metadata": {
    "collapsed": false
   },
   "id": "205b6fef0224fc37"
  }
 ],
 "metadata": {
  "kernelspec": {
   "display_name": "Python 3",
   "language": "python",
   "name": "python3"
  },
  "language_info": {
   "codemirror_mode": {
    "name": "ipython",
    "version": 2
   },
   "file_extension": ".py",
   "mimetype": "text/x-python",
   "name": "python",
   "nbconvert_exporter": "python",
   "pygments_lexer": "ipython2",
   "version": "2.7.6"
  }
 },
 "nbformat": 4,
 "nbformat_minor": 5
}
